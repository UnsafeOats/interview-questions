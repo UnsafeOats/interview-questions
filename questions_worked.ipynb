{
 "cells": [
  {
   "cell_type": "code",
   "execution_count": 1,
   "id": "de4dd087",
   "metadata": {},
   "outputs": [],
   "source": [
    "import pandas as pd"
   ]
  },
  {
   "cell_type": "code",
   "execution_count": 2,
   "id": "2b8afc45",
   "metadata": {},
   "outputs": [
    {
     "data": {
      "text/html": [
       "<div>\n",
       "<style scoped>\n",
       "    .dataframe tbody tr th:only-of-type {\n",
       "        vertical-align: middle;\n",
       "    }\n",
       "\n",
       "    .dataframe tbody tr th {\n",
       "        vertical-align: top;\n",
       "    }\n",
       "\n",
       "    .dataframe thead th {\n",
       "        text-align: right;\n",
       "    }\n",
       "</style>\n",
       "<table border=\"1\" class=\"dataframe\">\n",
       "  <thead>\n",
       "    <tr style=\"text-align: right;\">\n",
       "      <th></th>\n",
       "      <th>VIN (1-10)</th>\n",
       "      <th>County</th>\n",
       "      <th>City</th>\n",
       "      <th>State</th>\n",
       "      <th>Postal Code</th>\n",
       "      <th>Model Year</th>\n",
       "      <th>Make</th>\n",
       "      <th>Model</th>\n",
       "      <th>Electric Vehicle Type</th>\n",
       "      <th>Clean Alternative Fuel Vehicle (CAFV) Eligibility</th>\n",
       "      <th>Electric Range</th>\n",
       "      <th>Base MSRP</th>\n",
       "      <th>Legislative District</th>\n",
       "      <th>DOL Vehicle ID</th>\n",
       "      <th>Vehicle Location</th>\n",
       "      <th>Electric Utility</th>\n",
       "      <th>2020 Census Tract</th>\n",
       "    </tr>\n",
       "  </thead>\n",
       "  <tbody>\n",
       "    <tr>\n",
       "      <th>0</th>\n",
       "      <td>5YJXCAE26J</td>\n",
       "      <td>Yakima</td>\n",
       "      <td>Yakima</td>\n",
       "      <td>WA</td>\n",
       "      <td>98908.0</td>\n",
       "      <td>2018</td>\n",
       "      <td>TESLA</td>\n",
       "      <td>MODEL X</td>\n",
       "      <td>Battery Electric Vehicle (BEV)</td>\n",
       "      <td>Clean Alternative Fuel Vehicle Eligible</td>\n",
       "      <td>238</td>\n",
       "      <td>0</td>\n",
       "      <td>14.0</td>\n",
       "      <td>141151601</td>\n",
       "      <td>POINT (-120.56916 46.58514)</td>\n",
       "      <td>PACIFICORP</td>\n",
       "      <td>5.307700e+10</td>\n",
       "    </tr>\n",
       "    <tr>\n",
       "      <th>1</th>\n",
       "      <td>JHMZC5F37M</td>\n",
       "      <td>Kitsap</td>\n",
       "      <td>Poulsbo</td>\n",
       "      <td>WA</td>\n",
       "      <td>98370.0</td>\n",
       "      <td>2021</td>\n",
       "      <td>HONDA</td>\n",
       "      <td>CLARITY</td>\n",
       "      <td>Plug-in Hybrid Electric Vehicle (PHEV)</td>\n",
       "      <td>Clean Alternative Fuel Vehicle Eligible</td>\n",
       "      <td>47</td>\n",
       "      <td>0</td>\n",
       "      <td>23.0</td>\n",
       "      <td>171566447</td>\n",
       "      <td>POINT (-122.64681 47.73689)</td>\n",
       "      <td>PUGET SOUND ENERGY INC</td>\n",
       "      <td>5.303509e+10</td>\n",
       "    </tr>\n",
       "    <tr>\n",
       "      <th>2</th>\n",
       "      <td>5YJ3E1EB0K</td>\n",
       "      <td>King</td>\n",
       "      <td>Seattle</td>\n",
       "      <td>WA</td>\n",
       "      <td>98199.0</td>\n",
       "      <td>2019</td>\n",
       "      <td>TESLA</td>\n",
       "      <td>MODEL 3</td>\n",
       "      <td>Battery Electric Vehicle (BEV)</td>\n",
       "      <td>Clean Alternative Fuel Vehicle Eligible</td>\n",
       "      <td>220</td>\n",
       "      <td>0</td>\n",
       "      <td>36.0</td>\n",
       "      <td>9426525</td>\n",
       "      <td>POINT (-122.40092 47.65908)</td>\n",
       "      <td>CITY OF SEATTLE - (WA)|CITY OF TACOMA - (WA)</td>\n",
       "      <td>5.303301e+10</td>\n",
       "    </tr>\n",
       "    <tr>\n",
       "      <th>3</th>\n",
       "      <td>1N4AZ0CP5D</td>\n",
       "      <td>King</td>\n",
       "      <td>Seattle</td>\n",
       "      <td>WA</td>\n",
       "      <td>98119.0</td>\n",
       "      <td>2013</td>\n",
       "      <td>NISSAN</td>\n",
       "      <td>LEAF</td>\n",
       "      <td>Battery Electric Vehicle (BEV)</td>\n",
       "      <td>Clean Alternative Fuel Vehicle Eligible</td>\n",
       "      <td>75</td>\n",
       "      <td>0</td>\n",
       "      <td>36.0</td>\n",
       "      <td>211807760</td>\n",
       "      <td>POINT (-122.3684 47.64586)</td>\n",
       "      <td>CITY OF SEATTLE - (WA)|CITY OF TACOMA - (WA)</td>\n",
       "      <td>5.303301e+10</td>\n",
       "    </tr>\n",
       "    <tr>\n",
       "      <th>4</th>\n",
       "      <td>5YJSA1E21H</td>\n",
       "      <td>Thurston</td>\n",
       "      <td>Lacey</td>\n",
       "      <td>WA</td>\n",
       "      <td>98516.0</td>\n",
       "      <td>2017</td>\n",
       "      <td>TESLA</td>\n",
       "      <td>MODEL S</td>\n",
       "      <td>Battery Electric Vehicle (BEV)</td>\n",
       "      <td>Clean Alternative Fuel Vehicle Eligible</td>\n",
       "      <td>210</td>\n",
       "      <td>0</td>\n",
       "      <td>22.0</td>\n",
       "      <td>185810306</td>\n",
       "      <td>POINT (-122.75379 47.06316)</td>\n",
       "      <td>PUGET SOUND ENERGY INC</td>\n",
       "      <td>5.306701e+10</td>\n",
       "    </tr>\n",
       "  </tbody>\n",
       "</table>\n",
       "</div>"
      ],
      "text/plain": [
       "   VIN (1-10)    County     City State  Postal Code  Model Year    Make  \\\n",
       "0  5YJXCAE26J    Yakima   Yakima    WA      98908.0        2018   TESLA   \n",
       "1  JHMZC5F37M    Kitsap  Poulsbo    WA      98370.0        2021   HONDA   \n",
       "2  5YJ3E1EB0K      King  Seattle    WA      98199.0        2019   TESLA   \n",
       "3  1N4AZ0CP5D      King  Seattle    WA      98119.0        2013  NISSAN   \n",
       "4  5YJSA1E21H  Thurston    Lacey    WA      98516.0        2017   TESLA   \n",
       "\n",
       "     Model                   Electric Vehicle Type  \\\n",
       "0  MODEL X          Battery Electric Vehicle (BEV)   \n",
       "1  CLARITY  Plug-in Hybrid Electric Vehicle (PHEV)   \n",
       "2  MODEL 3          Battery Electric Vehicle (BEV)   \n",
       "3     LEAF          Battery Electric Vehicle (BEV)   \n",
       "4  MODEL S          Battery Electric Vehicle (BEV)   \n",
       "\n",
       "  Clean Alternative Fuel Vehicle (CAFV) Eligibility  Electric Range  \\\n",
       "0           Clean Alternative Fuel Vehicle Eligible             238   \n",
       "1           Clean Alternative Fuel Vehicle Eligible              47   \n",
       "2           Clean Alternative Fuel Vehicle Eligible             220   \n",
       "3           Clean Alternative Fuel Vehicle Eligible              75   \n",
       "4           Clean Alternative Fuel Vehicle Eligible             210   \n",
       "\n",
       "   Base MSRP  Legislative District  DOL Vehicle ID  \\\n",
       "0          0                  14.0       141151601   \n",
       "1          0                  23.0       171566447   \n",
       "2          0                  36.0         9426525   \n",
       "3          0                  36.0       211807760   \n",
       "4          0                  22.0       185810306   \n",
       "\n",
       "              Vehicle Location                              Electric Utility  \\\n",
       "0  POINT (-120.56916 46.58514)                                    PACIFICORP   \n",
       "1  POINT (-122.64681 47.73689)                        PUGET SOUND ENERGY INC   \n",
       "2  POINT (-122.40092 47.65908)  CITY OF SEATTLE - (WA)|CITY OF TACOMA - (WA)   \n",
       "3   POINT (-122.3684 47.64586)  CITY OF SEATTLE - (WA)|CITY OF TACOMA - (WA)   \n",
       "4  POINT (-122.75379 47.06316)                        PUGET SOUND ENERGY INC   \n",
       "\n",
       "   2020 Census Tract  \n",
       "0       5.307700e+10  \n",
       "1       5.303509e+10  \n",
       "2       5.303301e+10  \n",
       "3       5.303301e+10  \n",
       "4       5.306701e+10  "
      ]
     },
     "execution_count": 2,
     "metadata": {},
     "output_type": "execute_result"
    }
   ],
   "source": [
    "df = pd.read_csv(\"ev.csv\")\n",
    "df.head()"
   ]
  },
  {
   "cell_type": "code",
   "execution_count": 3,
   "id": "2fb901c9",
   "metadata": {},
   "outputs": [],
   "source": [
    "df = df[df[\"Postal Code\"].notnull()]\n",
    "df['Postal Code'] = df['Postal Code'].astype(float)"
   ]
  },
  {
   "cell_type": "code",
   "execution_count": 17,
   "id": "a0c7ecff",
   "metadata": {},
   "outputs": [
    {
     "name": "stdout",
     "output_type": "stream",
     "text": [
      "DF size: 787\n"
     ]
    },
    {
     "data": {
      "text/html": [
       "<div>\n",
       "<style scoped>\n",
       "    .dataframe tbody tr th:only-of-type {\n",
       "        vertical-align: middle;\n",
       "    }\n",
       "\n",
       "    .dataframe tbody tr th {\n",
       "        vertical-align: top;\n",
       "    }\n",
       "\n",
       "    .dataframe thead th {\n",
       "        text-align: right;\n",
       "    }\n",
       "</style>\n",
       "<table border=\"1\" class=\"dataframe\">\n",
       "  <thead>\n",
       "    <tr style=\"text-align: right;\">\n",
       "      <th></th>\n",
       "      <th>car_count</th>\n",
       "      <th>car_range</th>\n",
       "    </tr>\n",
       "    <tr>\n",
       "      <th>Postal Code</th>\n",
       "      <th></th>\n",
       "      <th></th>\n",
       "    </tr>\n",
       "  </thead>\n",
       "  <tbody>\n",
       "    <tr>\n",
       "      <th>98052.0</th>\n",
       "      <td>3384</td>\n",
       "      <td>77.608747</td>\n",
       "    </tr>\n",
       "    <tr>\n",
       "      <th>98033.0</th>\n",
       "      <td>2315</td>\n",
       "      <td>92.768035</td>\n",
       "    </tr>\n",
       "    <tr>\n",
       "      <th>98012.0</th>\n",
       "      <td>2265</td>\n",
       "      <td>68.806623</td>\n",
       "    </tr>\n",
       "    <tr>\n",
       "      <th>98004.0</th>\n",
       "      <td>2221</td>\n",
       "      <td>89.060783</td>\n",
       "    </tr>\n",
       "    <tr>\n",
       "      <th>98006.0</th>\n",
       "      <td>2139</td>\n",
       "      <td>84.255727</td>\n",
       "    </tr>\n",
       "  </tbody>\n",
       "</table>\n",
       "</div>"
      ],
      "text/plain": [
       "             car_count  car_range\n",
       "Postal Code                      \n",
       "98052.0           3384  77.608747\n",
       "98033.0           2315  92.768035\n",
       "98012.0           2265  68.806623\n",
       "98004.0           2221  89.060783\n",
       "98006.0           2139  84.255727"
      ]
     },
     "execution_count": 17,
     "metadata": {},
     "output_type": "execute_result"
    }
   ],
   "source": [
    "df_x = df.groupby(\"Postal Code\").agg(car_count=(\"Postal Code\", \"count\"), car_range=(\"Electric Range\", \"mean\"))\n",
    "print(\"DF size:\", df_x.shape[0])\n",
    "df_x.sort_values(\"car_count\", ascending=False).head()"
   ]
  },
  {
   "cell_type": "code",
   "execution_count": 5,
   "id": "6f87d980",
   "metadata": {},
   "outputs": [
    {
     "data": {
      "text/plain": [
       "[<matplotlib.lines.Line2D at 0x7f54037a7370>]"
      ]
     },
     "execution_count": 5,
     "metadata": {},
     "output_type": "execute_result"
    },
    {
     "data": {
      "image/png": "[encoded data removed]",
      "text/plain": [
       "<Figure size 640x480 with 1 Axes>"
      ]
     },
     "metadata": {},
     "output_type": "display_data"
    }
   ],
   "source": [
    "import matplotlib.pyplot as plt\n",
    "\n",
    "plt.plot(df_x[\"car_count\"], df_x[\"car_range\"], \"o\")"
   ]
  },
  {
   "cell_type": "code",
   "execution_count": 6,
   "id": "9e5fa01a",
   "metadata": {},
   "outputs": [
    {
     "name": "stdout",
     "output_type": "stream",
     "text": [
      "car_count    85\n",
      "car_range    85\n",
      "dtype: int64\n"
     ]
    },
    {
     "data": {
      "text/plain": [
       "0    TESLA\n",
       "Name: Make, dtype: object"
      ]
     },
     "execution_count": 6,
     "metadata": {},
     "output_type": "execute_result"
    }
   ],
   "source": [
    "print(df_x[df_x['car_count'] > 500].count())\n",
    "df_y = df.merge(df_x[df_x['car_count'] > 500], right_index=True, left_on=\"Postal Code\")\n",
    "df_y.Make.mode()"
   ]
  },
  {
   "cell_type": "code",
   "execution_count": 7,
   "id": "6504f848",
   "metadata": {},
   "outputs": [
    {
     "data": {
      "text/plain": [
       "zip             665\n",
       "eiaid           665\n",
       "utility_name    665\n",
       "state           665\n",
       "service_type    665\n",
       "ownership       665\n",
       "comm_rate       665\n",
       "ind_rate        665\n",
       "res_rate        665\n",
       "dtype: int64"
      ]
     },
     "execution_count": 7,
     "metadata": {},
     "output_type": "execute_result"
    }
   ],
   "source": [
    "df_2 = pd.read_csv(\"utilities.csv\")\n",
    "df_2 = df_2[df_2['state'] == \"WA\"]\n",
    "df_2['zip'] = df_2['zip'].astype(float)\n",
    "df_2.count()"
   ]
  },
  {
   "cell_type": "code",
   "execution_count": 8,
   "id": "2ab1058d",
   "metadata": {},
   "outputs": [
    {
     "name": "stdout",
     "output_type": "stream",
     "text": [
      "<class 'pandas.core.frame.DataFrame'>\n",
      "Int64Index: 665 entries, 32194 to 46985\n",
      "Data columns (total 9 columns):\n",
      " #   Column        Non-Null Count  Dtype  \n",
      "---  ------        --------------  -----  \n",
      " 0   zip           665 non-null    float64\n",
      " 1   eiaid         665 non-null    int64  \n",
      " 2   utility_name  665 non-null    object \n",
      " 3   state         665 non-null    object \n",
      " 4   service_type  665 non-null    object \n",
      " 5   ownership     665 non-null    object \n",
      " 6   comm_rate     665 non-null    float64\n",
      " 7   ind_rate      665 non-null    float64\n",
      " 8   res_rate      665 non-null    float64\n",
      "dtypes: float64(4), int64(1), object(4)\n",
      "memory usage: 52.0+ KB\n"
     ]
    }
   ],
   "source": [
    "df_2.info()"
   ]
  },
  {
   "cell_type": "code",
   "execution_count": 9,
   "id": "822f28b3",
   "metadata": {},
   "outputs": [
    {
     "data": {
      "text/plain": [
       "407"
      ]
     },
     "execution_count": 9,
     "metadata": {},
     "output_type": "execute_result"
    }
   ],
   "source": [
    "len(df_2['zip'].unique())"
   ]
  },
  {
   "cell_type": "code",
   "execution_count": 10,
   "id": "0b340eed",
   "metadata": {},
   "outputs": [
    {
     "data": {
      "text/html": [
       "<div>\n",
       "<style scoped>\n",
       "    .dataframe tbody tr th:only-of-type {\n",
       "        vertical-align: middle;\n",
       "    }\n",
       "\n",
       "    .dataframe tbody tr th {\n",
       "        vertical-align: top;\n",
       "    }\n",
       "\n",
       "    .dataframe thead th {\n",
       "        text-align: right;\n",
       "    }\n",
       "</style>\n",
       "<table border=\"1\" class=\"dataframe\">\n",
       "  <thead>\n",
       "    <tr style=\"text-align: right;\">\n",
       "      <th></th>\n",
       "      <th>zip</th>\n",
       "      <th>eiaid</th>\n",
       "      <th>utility_name</th>\n",
       "      <th>state</th>\n",
       "      <th>service_type</th>\n",
       "      <th>ownership</th>\n",
       "      <th>comm_rate</th>\n",
       "      <th>ind_rate</th>\n",
       "      <th>res_rate</th>\n",
       "    </tr>\n",
       "  </thead>\n",
       "  <tbody>\n",
       "    <tr>\n",
       "      <th>32194</th>\n",
       "      <td>99338.0</td>\n",
       "      <td>14354</td>\n",
       "      <td>PacifiCorp</td>\n",
       "      <td>WA</td>\n",
       "      <td>Bundled</td>\n",
       "      <td>Investor Owned</td>\n",
       "      <td>0.081184</td>\n",
       "      <td>0.07072</td>\n",
       "      <td>0.083047</td>\n",
       "    </tr>\n",
       "    <tr>\n",
       "      <th>32195</th>\n",
       "      <td>99346.0</td>\n",
       "      <td>14354</td>\n",
       "      <td>PacifiCorp</td>\n",
       "      <td>WA</td>\n",
       "      <td>Bundled</td>\n",
       "      <td>Investor Owned</td>\n",
       "      <td>0.081184</td>\n",
       "      <td>0.07072</td>\n",
       "      <td>0.083047</td>\n",
       "    </tr>\n",
       "    <tr>\n",
       "      <th>32196</th>\n",
       "      <td>99360.0</td>\n",
       "      <td>14354</td>\n",
       "      <td>PacifiCorp</td>\n",
       "      <td>WA</td>\n",
       "      <td>Bundled</td>\n",
       "      <td>Investor Owned</td>\n",
       "      <td>0.081184</td>\n",
       "      <td>0.07072</td>\n",
       "      <td>0.083047</td>\n",
       "    </tr>\n",
       "    <tr>\n",
       "      <th>32197</th>\n",
       "      <td>99356.0</td>\n",
       "      <td>14354</td>\n",
       "      <td>PacifiCorp</td>\n",
       "      <td>WA</td>\n",
       "      <td>Bundled</td>\n",
       "      <td>Investor Owned</td>\n",
       "      <td>0.081184</td>\n",
       "      <td>0.07072</td>\n",
       "      <td>0.083047</td>\n",
       "    </tr>\n",
       "    <tr>\n",
       "      <th>32198</th>\n",
       "      <td>98953.0</td>\n",
       "      <td>14354</td>\n",
       "      <td>PacifiCorp</td>\n",
       "      <td>WA</td>\n",
       "      <td>Bundled</td>\n",
       "      <td>Investor Owned</td>\n",
       "      <td>0.081184</td>\n",
       "      <td>0.07072</td>\n",
       "      <td>0.083047</td>\n",
       "    </tr>\n",
       "  </tbody>\n",
       "</table>\n",
       "</div>"
      ],
      "text/plain": [
       "           zip  eiaid utility_name state service_type       ownership  \\\n",
       "32194  99338.0  14354   PacifiCorp    WA      Bundled  Investor Owned   \n",
       "32195  99346.0  14354   PacifiCorp    WA      Bundled  Investor Owned   \n",
       "32196  99360.0  14354   PacifiCorp    WA      Bundled  Investor Owned   \n",
       "32197  99356.0  14354   PacifiCorp    WA      Bundled  Investor Owned   \n",
       "32198  98953.0  14354   PacifiCorp    WA      Bundled  Investor Owned   \n",
       "\n",
       "       comm_rate  ind_rate  res_rate  \n",
       "32194   0.081184   0.07072  0.083047  \n",
       "32195   0.081184   0.07072  0.083047  \n",
       "32196   0.081184   0.07072  0.083047  \n",
       "32197   0.081184   0.07072  0.083047  \n",
       "32198   0.081184   0.07072  0.083047  "
      ]
     },
     "execution_count": 10,
     "metadata": {},
     "output_type": "execute_result"
    }
   ],
   "source": [
    "df_2.head()"
   ]
  },
  {
   "cell_type": "code",
   "execution_count": 11,
   "id": "b2f673a2",
   "metadata": {},
   "outputs": [
    {
     "data": {
      "text/html": [
       "<div>\n",
       "<style scoped>\n",
       "    .dataframe tbody tr th:only-of-type {\n",
       "        vertical-align: middle;\n",
       "    }\n",
       "\n",
       "    .dataframe tbody tr th {\n",
       "        vertical-align: top;\n",
       "    }\n",
       "\n",
       "    .dataframe thead th {\n",
       "        text-align: right;\n",
       "    }\n",
       "</style>\n",
       "<table border=\"1\" class=\"dataframe\">\n",
       "  <thead>\n",
       "    <tr style=\"text-align: right;\">\n",
       "      <th></th>\n",
       "      <th>residential</th>\n",
       "      <th>car_count</th>\n",
       "      <th>car_range</th>\n",
       "    </tr>\n",
       "  </thead>\n",
       "  <tbody>\n",
       "    <tr>\n",
       "      <th>98001.0</th>\n",
       "      <td>0.054027</td>\n",
       "      <td>537</td>\n",
       "      <td>62.232775</td>\n",
       "    </tr>\n",
       "    <tr>\n",
       "      <th>98002.0</th>\n",
       "      <td>0.054027</td>\n",
       "      <td>192</td>\n",
       "      <td>74.432292</td>\n",
       "    </tr>\n",
       "    <tr>\n",
       "      <th>98003.0</th>\n",
       "      <td>0.054027</td>\n",
       "      <td>380</td>\n",
       "      <td>61.463158</td>\n",
       "    </tr>\n",
       "    <tr>\n",
       "      <th>98004.0</th>\n",
       "      <td>0.054027</td>\n",
       "      <td>2221</td>\n",
       "      <td>89.060783</td>\n",
       "    </tr>\n",
       "    <tr>\n",
       "      <th>98005.0</th>\n",
       "      <td>0.054027</td>\n",
       "      <td>987</td>\n",
       "      <td>84.045593</td>\n",
       "    </tr>\n",
       "  </tbody>\n",
       "</table>\n",
       "</div>"
      ],
      "text/plain": [
       "         residential  car_count  car_range\n",
       "98001.0     0.054027        537  62.232775\n",
       "98002.0     0.054027        192  74.432292\n",
       "98003.0     0.054027        380  61.463158\n",
       "98004.0     0.054027       2221  89.060783\n",
       "98005.0     0.054027        987  84.045593"
      ]
     },
     "execution_count": 11,
     "metadata": {},
     "output_type": "execute_result"
    }
   ],
   "source": [
    "df_2_x = df_2.groupby('zip').agg(residential=('res_rate', 'mean'))\n",
    "b = df_2_x.merge(df_x, right_index=True, left_index=True)\n",
    "b.head()"
   ]
  },
  {
   "cell_type": "code",
   "execution_count": 14,
   "id": "1e3134d3",
   "metadata": {},
   "outputs": [
    {
     "data": {
      "text/plain": [
       "[<matplotlib.lines.Line2D at 0x7f54035112d0>]"
      ]
     },
     "execution_count": 14,
     "metadata": {},
     "output_type": "execute_result"
    },
    {
     "data": {
      "image/png": "[encoded data removed]",
      "text/plain": [
       "<Figure size 640x480 with 1 Axes>"
      ]
     },
     "metadata": {},
     "output_type": "display_data"
    }
   ],
   "source": [
    "plt.plot(b['residential'], b['car_range'], 'o')"
   ]
  },
  {
   "cell_type": "code",
   "execution_count": 13,
   "id": "dbb99441",
   "metadata": {},
   "outputs": [
    {
     "data": {
      "text/plain": [
       "[<matplotlib.lines.Line2D at 0x7f54035f3250>]"
      ]
     },
     "execution_count": 13,
     "metadata": {},
     "output_type": "execute_result"
    },
    {
     "data": {
      "image/png": "[encoded data removed]",
      "text/plain": [
       "<Figure size 640x480 with 1 Axes>"
      ]
     },
     "metadata": {},
     "output_type": "display_data"
    }
   ],
   "source": [
    "plt.plot(b['car_count'], b['residential'], 'o')"
   ]
  },
  {
   "cell_type": "code",
   "execution_count": null,
   "id": "fb946e67",
   "metadata": {},
   "outputs": [],
   "source": []
  },
  {
   "cell_type": "code",
   "execution_count": null,
   "id": "41bb7137",
   "metadata": {},
   "outputs": [],
   "source": []
  }
 ],
 "metadata": {
  "kernelspec": {
   "display_name": "Python 3 (ipykernel)",
   "language": "python",
   "name": "python3"
  },
  "language_info": {
   "codemirror_mode": {
    "name": "ipython",
    "version": 3
   },
   "file_extension": ".py",
   "mimetype": "text/x-python",
   "name": "python",
   "nbconvert_exporter": "python",
   "pygments_lexer": "ipython3",
   "version": "3.10.10"
  }
 },
 "nbformat": 4,
 "nbformat_minor": 5
}
